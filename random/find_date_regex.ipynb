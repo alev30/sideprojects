{
 "cells": [
  {
   "cell_type": "markdown",
   "metadata": {},
   "source": [
    "---\n",
    "\n",
    "_You are currently looking at **version 1.1** of this notebook. To download notebooks and datafiles, as well as get help on Jupyter notebooks in the Coursera platform, visit the [Jupyter Notebook FAQ](https://www.coursera.org/learn/python-text-mining/resources/d9pwm) course resource._\n",
    "\n",
    "---"
   ]
  },
  {
   "cell_type": "markdown",
   "metadata": {},
   "source": [
    "# Assignment 1\n",
    "\n",
    "In this assignment, you'll be working with messy medical data and using regex to extract relevant infromation from the data. \n",
    "\n",
    "Each line of the `dates.txt` file corresponds to a medical note. Each note has a date that needs to be extracted, but each date is encoded in one of many formats.\n",
    "\n",
    "The goal of this assignment is to correctly identify all of the different date variants encoded in this dataset and to properly normalize and sort the dates. \n",
    "\n",
    "Here is a list of some of the variants you might encounter in this dataset:\n",
    "* 04/20/2009; 04/20/09; 4/20/09; 4/3/09\n",
    "* Mar-20-2009; Mar 20, 2009; March 20, 2009;  Mar. 20, 2009; Mar 20 2009;\n",
    "* 20 Mar 2009; 20 March 2009; 20 Mar. 2009; 20 March, 2009\n",
    "* Mar 20th, 2009; Mar 21st, 2009; Mar 22nd, 2009\n",
    "* Feb 2009; Sep 2009; Oct 2010\n",
    "* 6/2008; 12/2009\n",
    "* 2009; 2010\n",
    "\n",
    "Once you have extracted these date patterns from the text, the next step is to sort them in ascending chronological order accoring to the following rules:\n",
    "* Assume all dates in xx/xx/xx format are mm/dd/yy\n",
    "* Assume all dates where year is encoded in only two digits are years from the 1900's (e.g. 1/5/89 is January 5th, 1989)\n",
    "* If the day is missing (e.g. 9/2009), assume it is the first day of the month (e.g. September 1, 2009).\n",
    "* If the month is missing (e.g. 2010), assume it is the first of January of that year (e.g. January 1, 2010).\n",
    "* Watch out for potential typos as this is a raw, real-life derived dataset.\n",
    "\n",
    "With these rules in mind, find the correct date in each note and return a pandas Series in chronological order of the original Series' indices.\n",
    "\n",
    "For example if the original series was this:\n",
    "\n",
    "    0    1999\n",
    "    1    2010\n",
    "    2    1978\n",
    "    3    2015\n",
    "    4    1985\n",
    "\n",
    "Your function should return this:\n",
    "\n",
    "    0    2\n",
    "    1    4\n",
    "    2    0\n",
    "    3    1\n",
    "    4    3\n",
    "\n",
    "Your score will be calculated using [Kendall's tau](https://en.wikipedia.org/wiki/Kendall_rank_correlation_coefficient), a correlation measure for ordinal data.\n",
    "\n",
    "*This function should return a Series of length 500 and dtype int.*"
   ]
  },
  {
   "cell_type": "code",
   "execution_count": 2,
   "metadata": {},
   "outputs": [
    {
     "data": {
      "text/plain": [
       "0         03/25/93 Total time of visit (in minutes):\\n\n",
       "1                       6/18/85 Primary Care Doctor:\\n\n",
       "2    sshe plans to move as of 7/8/71 In-Home Servic...\n",
       "3                7 on 9/27/75 Audit C Score Current:\\n\n",
       "4    2/6/96 sleep studyPain Treatment Pain Level (N...\n",
       "5                    .Per 7/06/79 Movement D/O note:\\n\n",
       "6    4, 5/18/78 Patient's thoughts about current su...\n",
       "7    10/24/89 CPT Code: 90801 - Psychiatric Diagnos...\n",
       "8                         3/7/86 SOS-10 Total Score:\\n\n",
       "9             (4/10/71)Score-1Audit C Score Current:\\n\n",
       "dtype: object"
      ]
     },
     "execution_count": 2,
     "metadata": {},
     "output_type": "execute_result"
    }
   ],
   "source": [
    "import warnings\n",
    "warnings.filterwarnings('ignore')\n",
    "\n",
    "import pandas as pd\n",
    "\n",
    "doc = []\n",
    "with open('dates.txt') as file:\n",
    "    for line in file:\n",
    "        doc.append(line)\n",
    "\n",
    "df = pd.Series(doc)\n",
    "df.head(10)"
   ]
  },
  {
   "cell_type": "code",
   "execution_count": 3,
   "metadata": {
    "collapsed": true
   },
   "outputs": [],
   "source": [
    "pd.set_option('display.max_rows', 500)"
   ]
  },
  {
   "cell_type": "code",
   "execution_count": 4,
   "metadata": {
    "collapsed": true
   },
   "outputs": [],
   "source": [
    "pd.set_option('display.max_colwidth', -1)"
   ]
  },
  {
   "cell_type": "code",
   "execution_count": 5,
   "metadata": {},
   "outputs": [
    {
     "data": {
      "text/html": [
       "<div>\n",
       "<style>\n",
       "    .dataframe thead tr:only-child th {\n",
       "        text-align: right;\n",
       "    }\n",
       "\n",
       "    .dataframe thead th {\n",
       "        text-align: left;\n",
       "    }\n",
       "\n",
       "    .dataframe tbody tr th {\n",
       "        vertical-align: top;\n",
       "    }\n",
       "</style>\n",
       "<table border=\"1\" class=\"dataframe\">\n",
       "  <thead>\n",
       "    <tr style=\"text-align: right;\">\n",
       "      <th></th>\n",
       "      <th>text</th>\n",
       "    </tr>\n",
       "  </thead>\n",
       "  <tbody>\n",
       "    <tr>\n",
       "      <th>0</th>\n",
       "      <td>03/25/93 Total time of visit (in minutes):\\n</td>\n",
       "    </tr>\n",
       "    <tr>\n",
       "      <th>1</th>\n",
       "      <td>6/18/85 Primary Care Doctor:\\n</td>\n",
       "    </tr>\n",
       "    <tr>\n",
       "      <th>2</th>\n",
       "      <td>sshe plans to move as of 7/8/71 In-Home Services: None\\n</td>\n",
       "    </tr>\n",
       "    <tr>\n",
       "      <th>3</th>\n",
       "      <td>7 on 9/27/75 Audit C Score Current:\\n</td>\n",
       "    </tr>\n",
       "    <tr>\n",
       "      <th>4</th>\n",
       "      <td>2/6/96 sleep studyPain Treatment Pain Level (Numeric Scale): 7\\n</td>\n",
       "    </tr>\n",
       "  </tbody>\n",
       "</table>\n",
       "</div>"
      ],
      "text/plain": [
       "                                                               text\n",
       "0  03/25/93 Total time of visit (in minutes):\\n                    \n",
       "1  6/18/85 Primary Care Doctor:\\n                                  \n",
       "2  sshe plans to move as of 7/8/71 In-Home Services: None\\n        \n",
       "3  7 on 9/27/75 Audit C Score Current:\\n                           \n",
       "4  2/6/96 sleep studyPain Treatment Pain Level (Numeric Scale): 7\\n"
      ]
     },
     "execution_count": 5,
     "metadata": {},
     "output_type": "execute_result"
    }
   ],
   "source": [
    "df2 = pd.DataFrame(df, columns = [\"text\"])\n",
    "df2.head()"
   ]
  },
  {
   "cell_type": "code",
   "execution_count": 6,
   "metadata": {
    "collapsed": true
   },
   "outputs": [],
   "source": [
    "df2[\"text2\"] = df2.text.str.lower()\n",
    "df2[\"text2\"] = df2.text2.str.split().str.join(\" \")"
   ]
  },
  {
   "cell_type": "code",
   "execution_count": null,
   "metadata": {},
   "outputs": [],
   "source": [
    "df2.text2"
   ]
  },
  {
   "cell_type": "code",
   "execution_count": null,
   "metadata": {
    "collapsed": true
   },
   "outputs": [],
   "source": [
    "df2['text2'].str.extract(\n",
    "                            r'(?:^|\\D)([012]*[0-9]|3[01]|jan|feb|mar|apr|may|jun|jul|aug|sep|oct|nov|dec)[a-z]*[-/,. ]{1,2}'\n",
    "                            r'(\\d{1,2}|jan|feb|mar|apr|may|jun|jul|aug|sep|oct|nov|dec)[a-z]*[-/,. ]{1,2}'\n",
    "                            r'([56789][0-9]|19[0-9][0-9]|20[0-9][0-9])(?:$|\\D)')"
   ]
  },
  {
   "cell_type": "code",
   "execution_count": 107,
   "metadata": {
    "collapsed": true
   },
   "outputs": [],
   "source": [
    "# full date\n",
    "df2[['month','day','year']] = (df2['text2'].str.extract(\n",
    "                            r'(?:^|\\D)([012]*[0-9]|3[01]|jan|feb|mar|apr|may|jun|jul|aug|sep|oct|nov|dec)[a-z]*[-/,. ]{1,2}'\n",
    "                            r'(\\d{1,2}|jan|feb|mar|apr|may|jun|jul|aug|sep|oct|nov|dec)[a-z]*[-/,. ]{1,2}'\n",
    "                            r'([56789][0-9]|19[0-9][0-9]|20[0-9][0-9])(?:$|\\D)').rename(columns = {0:'month', 1:'day', 2:'year'}))\n",
    "# only month and year \n",
    "month_year_fill = df2.loc[((df2.year.isnull()) &(df2.month.isnull())),'text2'].str.extract(\n",
    "                            r'(?:^|\\D)([0-9]|10|11|12|jan|feb|mar|apr|may|jun|jul|aug|sep|oct|nov|dec)[a-z]*[-/,. ]{1,2}'\n",
    "                            r'(19[0-9][0-9]|20[0-9][0-9])(?:$|\\D)').rename(columns = {0:'month', 1:'year'})\n",
    "month_year_fill.dropna(inplace = True)\n",
    "df2.loc[month_year_fill.index, \"month\"] =  month_year_fill.month\n",
    "df2.loc[month_year_fill.index, \"year\"]  = month_year_fill.year\n",
    "df2.loc[month_year_fill.index, \"day\"]   = 1\n",
    "# only year\n",
    "year_fill = df2.loc[df2.year.isnull(),'text2'].str.extract(r'(19[0-9][0-9]|20[0-9][0-9])').rename(columns = {0:'year'})\n",
    "df2.loc[year_fill.index, \"month\"] =  'jan'\n",
    "df2.loc[year_fill.index, \"year\"]  = year_fill\n",
    "df2.loc[year_fill.index, \"day\"]   = 1\n",
    "# flip days and months for wrong ordered ones\n",
    "flip = df2.loc[df2.day.str.len() == 3].copy()\n",
    "df2.loc[flip.index, \"month\"] = flip.day\n",
    "df2.loc[flip.index, \"day\" ]  = flip.month\n",
    "# convert months to integers\n",
    "month_map = {\"jan\" : \"1\", \"feb\" : \"2\", \"mar\" : \"3\", \"apr\" : \"4\", \"may\" : \"5\", \"jun\" : \"6\",\n",
    "             \"jul\" : \"7\", \"aug\" : \"8\", \"sep\" : \"9\", \"oct\" : \"10\", \"nov\" : \"11\", \"dec\" : \"12\"}\n",
    "for month, num in month_map.items():\n",
    "    df2.month = df2.month.str.replace(month, num)\n",
    "# clean numbers\n",
    "df2.month = df2.month.astype(\"int\").astype(\"str\")\n",
    "df2.day = df2.day.astype(\"int\").astype(\"str\")\n",
    "df2.loc[df2.year.str.len() == 2, \"year\"]   = \"19\" + df2.loc[df2.year.str.len() == 2, \"year\"]\n",
    "df2.loc[df2.month.str.len() == 1, \"month\"] = \"0\"  + df2.loc[df2.month.str.len() == 1, \"month\"]\n",
    "df2.loc[df2.day.str.len() == 1, \"day\"]     = \"0\"  + df2.loc[df2.day.str.len() == 1, \"day\"]\n",
    "\n",
    "# create final dates and return\n",
    "df2[\"dates\"] = df2.year + df2.month + df2.day\n",
    "df2.dates = df2.dates.astype(\"int\")\n",
    "pd.Series(df2.dates.sort_values(ascending = False).index.values)"
   ]
  },
  {
   "cell_type": "code",
   "execution_count": null,
   "metadata": {},
   "outputs": [],
   "source": [
    "pd.Series(df2.dates.sort_values(ascending = False).index.values)"
   ]
  },
  {
   "cell_type": "code",
   "execution_count": 102,
   "metadata": {},
   "outputs": [
    {
     "data": {
      "text/plain": [
       "array(['3', '6', '7', '9', '2', '5', '10', '4', '8', '1', '11', '12'], dtype=object)"
      ]
     },
     "execution_count": 102,
     "metadata": {},
     "output_type": "execute_result"
    }
   ],
   "source": [
    "df2.month.unique()"
   ]
  },
  {
   "cell_type": "code",
   "execution_count": 103,
   "metadata": {},
   "outputs": [
    {
     "data": {
      "text/plain": [
       "array(['25', '18', '8', '27', '6', '24', '7', '10', '11', '9', '1', '26',\n",
       "       '12', '13', '21', '3', '22', '2', '31', '20', '15', '14', '29',\n",
       "       '16', '17', '28', '5', '4', '19', '30', '23'], dtype=object)"
      ]
     },
     "execution_count": 103,
     "metadata": {},
     "output_type": "execute_result"
    }
   ],
   "source": [
    "df2.day.unique()"
   ]
  },
  {
   "cell_type": "code",
   "execution_count": 106,
   "metadata": {},
   "outputs": [
    {
     "data": {
      "text/plain": [
       "array(['1993', '1985', '1971', '1975', '1996', '1979', '1978', '1989',\n",
       "       '1986', '1998', '1972', '1990', '2011', '1982', '1976', '1977',\n",
       "       '1984', '1987', '1991', '2012', '1983', '1973', '1988', '1981',\n",
       "       '1994', '2002', '1992', '1995', '2010', '1974', '1999', '1980',\n",
       "       '2000', '1997', '2004', '2006', '2001', '2007', '2016', '2003',\n",
       "       '2015', '2008', '2013', '2005', '2014', '2009'], dtype=object)"
      ]
     },
     "execution_count": 106,
     "metadata": {},
     "output_type": "execute_result"
    }
   ],
   "source": [
    "df2.year.unique()"
   ]
  },
  {
   "cell_type": "code",
   "execution_count": 3,
   "metadata": {
    "collapsed": true
   },
   "outputs": [],
   "source": [
    "def date_sorter():\n",
    "    import warnings\n",
    "    warnings.filterwarnings('ignore')\n",
    "\n",
    "    import pandas as pd\n",
    "\n",
    "    doc = []\n",
    "    with open('dates.txt') as file:\n",
    "        for line in file:\n",
    "            doc.append(line)\n",
    "\n",
    "    df = pd.Series(doc)\n",
    "    \n",
    "    # Your code here\n",
    "    df2 = pd.DataFrame(df, columns = [\"text\"])\n",
    "    \n",
    "    df2[\"text2\"] = df2.text.str.lower()\n",
    "    df2[\"text2\"] = df2.text2.str.split().str.join(\" \")\n",
    "    # full date\n",
    "    df2[['month','day','year']] = (df2['text2'].str.extract(\n",
    "                                r'(?:^|\\D)([012]*[0-9]|3[01]|jan|feb|mar|apr|may|jun|jul|aug|sep|oct|nov|dec)[a-z]*[-/,. ]{1,2}'\n",
    "                                r'(\\d{1,2}|jan|feb|mar|apr|may|jun|jul|aug|sep|oct|nov|dec)[a-z]*[-/,. ]{1,2}'\n",
    "                                r'([56789][0-9]|19[0-9][0-9]|20[0-9][0-9])(?:$|\\D)').rename(columns = {0:'month', 1:'day', 2:'year'}))\n",
    "    # only month and year \n",
    "    month_year_fill = df2.loc[((df2.year.isnull()) &(df2.month.isnull())),'text2'].str.extract(\n",
    "                                r'(?:^|\\D)([0-9]|10|11|12|jan|feb|mar|apr|may|jun|jul|aug|sep|oct|nov|dec)[a-z]*[-/,. ]{1,2}'\n",
    "                                r'(19[0-9][0-9]|20[0-9][0-9])(?:$|\\D)').rename(columns = {0:'month', 1:'year'})\n",
    "    month_year_fill.dropna(inplace = True)\n",
    "    df2.loc[month_year_fill.index, \"month\"] =  month_year_fill.month\n",
    "    df2.loc[month_year_fill.index, \"year\"]  = month_year_fill.year\n",
    "    df2.loc[month_year_fill.index, \"day\"]   = 1\n",
    "    # only year\n",
    "    year_fill = df2.loc[df2.year.isnull(),'text2'].str.extract(r'(19[0-9][0-9]|20[0-9][0-9])').rename(columns = {0:'year'})\n",
    "    df2.loc[year_fill.index, \"month\"] =  'jan'\n",
    "    df2.loc[year_fill.index, \"year\"]  = year_fill\n",
    "    df2.loc[year_fill.index, \"day\"]   = 1\n",
    "    # flip days and months for wrong ordered ones\n",
    "    flip = df2.loc[df2.day.str.len() == 3].copy()\n",
    "    df2.loc[flip.index, \"month\"] = flip.day\n",
    "    df2.loc[flip.index, \"day\" ]  = flip.month\n",
    "    # convert months to integers\n",
    "    month_map = {\"jan\" : \"1\", \"feb\" : \"2\", \"mar\" : \"3\", \"apr\" : \"4\", \"may\" : \"5\", \"jun\" : \"6\",\n",
    "                 \"jul\" : \"7\", \"aug\" : \"8\", \"sep\" : \"9\", \"oct\" : \"10\", \"nov\" : \"11\", \"dec\" : \"12\"}\n",
    "    for month, num in month_map.items():\n",
    "        df2.month = df2.month.str.replace(month, num)\n",
    "    # clean numbers\n",
    "    df2.month = df2.month.astype(\"int\").astype(\"str\")\n",
    "    df2.day = df2.day.astype(\"int\").astype(\"str\")\n",
    "    df2.loc[df2.year.str.len() == 2, \"year\"]   = \"19\" + df2.loc[df2.year.str.len() == 2, \"year\"]\n",
    "    df2.loc[df2.month.str.len() == 1, \"month\"] = \"0\"  + df2.loc[df2.month.str.len() == 1, \"month\"]\n",
    "    df2.loc[df2.day.str.len() == 1, \"day\"]     = \"0\"  + df2.loc[df2.day.str.len() == 1, \"day\"]\n",
    "\n",
    "    # create final dates and return\n",
    "    df2[\"dates\"] = df2.year + df2.month + df2.day\n",
    "    df2.dates = df2.dates.astype(\"int\")\n",
    "\n",
    "    return  pd.Series(df2.dates.sort_values(ascending = False).index.values) # Your answer here"
   ]
  }
 ],
 "metadata": {
  "coursera": {
   "course_slug": "python-text-mining",
   "graded_item_id": "LvcWI",
   "launcher_item_id": "krne9",
   "part_id": "Mkp1I"
  },
  "kernelspec": {
   "display_name": "Python 3",
   "language": "python",
   "name": "python3"
  },
  "language_info": {
   "codemirror_mode": {
    "name": "ipython",
    "version": 3
   },
   "file_extension": ".py",
   "mimetype": "text/x-python",
   "name": "python",
   "nbconvert_exporter": "python",
   "pygments_lexer": "ipython3",
   "version": "3.6.2"
  }
 },
 "nbformat": 4,
 "nbformat_minor": 2
}
